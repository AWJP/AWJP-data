{
 "cells": [
  {
   "cell_type": "markdown",
   "id": "3e0d7c92-c899-442d-a973-862d721bd278",
   "metadata": {},
   "source": [
    "## Performing a comparative gender analysis and generating word clouds from the lyrics of female and male rappers in Senegal."
   ]
  },
  {
   "cell_type": "markdown",
   "id": "d2618393-87b6-45c6-8a39-05ddf15e78f0",
   "metadata": {},
   "source": [
    "### Step 1: Import required libraries"
   ]
  },
  {
   "cell_type": "code",
   "execution_count": null,
   "id": "3375f15c-8362-4afb-8b61-034ccfa3445c",
   "metadata": {},
   "outputs": [],
   "source": [
    "import pandas as pd\n",
    "import matplotlib.pyplot as plt\n",
    "from wordcloud import WordCloud\n",
    "import requests\n",
    "import io"
   ]
  },
  {
   "cell_type": "markdown",
   "id": "41484adc-51da-4f7f-a296-994b54e3abf4",
   "metadata": {},
   "source": [
    "### Step 2: Define a function to load CSV from GitHub"
   ]
  },
  {
   "cell_type": "code",
   "execution_count": null,
   "id": "e55d3cff-89f0-4a86-a4b3-bad4b3725e68",
   "metadata": {},
   "outputs": [],
   "source": [
    "def load_lyrics_from_github(raw_url):\n",
    "    response = requests.get(raw_url).content\n",
    "    return pd.read_csv(io.StringIO(response.decode('utf-8')))"
   ]
  },
  {
   "cell_type": "markdown",
   "id": "86f3bf5b-1d4b-43f7-bfe4-dc73da5592de",
   "metadata": {},
   "source": [
    "### Step 3: Load lyrics data for female and male rappers"
   ]
  },
  {
   "cell_type": "code",
   "execution_count": null,
   "id": "114351dd-8135-4fcb-b1f8-e4218b06a40a",
   "metadata": {},
   "outputs": [],
   "source": [
    "# Insert the actual RAW CSV URLs\n",
    "\n",
    "female_csv_url = \"https://raw.githubusercontent.com/AWJP/AWJP-data/refs/heads/main/Social%20Issues%20%26%20Human%20Rights/Lyrics%20of%20popular%20Senegal%20female%20rap%20songs%202024.csv\"\n",
    "male_csv_url = \"https://raw.githubusercontent.com/AWJP/AWJP-data/refs/heads/main/Social%20Issues%20%26%20Human%20Rights/Lyrics%20of%20popular%20Senegal%20male%20rap%20songs%202024.csv\"\n",
    "\n",
    "female_df = load_lyrics_from_github(female_csv_url)\n",
    "male_df = load_lyrics_from_github(male_csv_url)"
   ]
  },
  {
   "cell_type": "markdown",
   "id": "1a7dd9db-d4fe-4891-b70a-164810f1f4b2",
   "metadata": {},
   "source": [
    "### Step 4: Preview the structure"
   ]
  },
  {
   "cell_type": "code",
   "execution_count": null,
   "id": "33f61a62-7f14-45f5-931f-fe8106e33384",
   "metadata": {},
   "outputs": [],
   "source": [
    "female_df.head(), male_df.head()"
   ]
  },
  {
   "cell_type": "markdown",
   "id": "00fec7ff-5caf-42fd-a2b7-2299fae74235",
   "metadata": {},
   "source": [
    "### Step 5: Combine all lyrics into one string per group"
   ]
  },
  {
   "cell_type": "code",
   "execution_count": null,
   "id": "05da08d0-9566-4859-8a9f-39131f89cbdd",
   "metadata": {},
   "outputs": [],
   "source": [
    "female_text = female_df['text'].dropna().str.cat(sep=' ')\n",
    "male_text = male_df['text'].dropna().str.cat(sep=' ')"
   ]
  },
  {
   "cell_type": "markdown",
   "id": "a858e640-986c-4a7c-ac51-3eb17694c606",
   "metadata": {},
   "source": [
    "### Step 6: Create a function to generate a word cloud"
   ]
  },
  {
   "cell_type": "code",
   "execution_count": null,
   "id": "8439a1a7-ede1-402f-b227-9330369054e9",
   "metadata": {},
   "outputs": [],
   "source": [
    "def generate_wordcloud(text, title):\n",
    "    wordcloud = WordCloud(width=800, height=400, background_color='white').generate(text)\n",
    "    plt.figure(figsize=(10, 5))\n",
    "    plt.imshow(wordcloud, interpolation='bilinear')\n",
    "    plt.axis('off')\n",
    "    plt.title(title, fontsize=16)\n",
    "    plt.show()"
   ]
  },
  {
   "cell_type": "markdown",
   "id": "b1d8049d-bc11-48cc-aaf7-74674a8e0de7",
   "metadata": {},
   "source": [
    "### Step 7: Generate word clouds for both groups"
   ]
  },
  {
   "cell_type": "code",
   "execution_count": null,
   "id": "241d2ca9-9be8-427b-8af7-bd0fc516461f",
   "metadata": {},
   "outputs": [],
   "source": [
    "generate_wordcloud(female_text, \"Female Rappers' Lyrics Word Cloud\")\n",
    "generate_wordcloud(male_text, \"Male Rappers' Lyrics Word Cloud\")"
   ]
  },
  {
   "cell_type": "markdown",
   "id": "88427548-93c7-49fd-a3e0-aa88d53f0e3d",
   "metadata": {},
   "source": [
    "### Optional Step 8: Compare top 20 most common words (basic)"
   ]
  },
  {
   "cell_type": "code",
   "execution_count": null,
   "id": "43c1671a-93e2-4395-8698-062654b5db2f",
   "metadata": {},
   "outputs": [],
   "source": [
    "from collections import Counter\n",
    "import re\n",
    "\n",
    "def get_top_words(text, n=20):\n",
    "    words = re.findall(r'\\b\\w+\\b', text.lower())\n",
    "    return Counter(words).most_common(n)\n",
    "\n",
    "print(\"Top words in Female lyrics:\")\n",
    "print(get_top_words(female_text))\n",
    "\n",
    "print(\"\\nTop words in Male lyrics:\")\n",
    "print(get_top_words(male_text))"
   ]
  }
 ],
 "metadata": {
  "kernelspec": {
   "display_name": "Python 3 (ipykernel)",
   "language": "python",
   "name": "python3"
  },
  "language_info": {
   "codemirror_mode": {
    "name": "ipython",
    "version": 3
   },
   "file_extension": ".py",
   "mimetype": "text/x-python",
   "name": "python",
   "nbconvert_exporter": "python",
   "pygments_lexer": "ipython3",
   "version": "3.10.12"
  }
 },
 "nbformat": 4,
 "nbformat_minor": 5
}
