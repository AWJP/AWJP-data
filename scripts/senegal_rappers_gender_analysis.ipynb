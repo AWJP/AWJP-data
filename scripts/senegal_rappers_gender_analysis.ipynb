{
 "cells": [
  {
   "cell_type": "markdown",
   "id": "05ec3c94-4791-491c-80c2-589c4b3d86e7",
   "metadata": {},
   "source": [
    "## Performing a comparative gender analysis and generating word clouds from the lyrics of female and male rappers in Senegal."
   ]
  },
  {
   "cell_type": "markdown",
   "id": "cc82fe96-5dcc-450f-a51b-51ded346a41a",
   "metadata": {},
   "source": [
    "#### These are the Senegalese rappers we will be using to conduct our analyses:\n",
    "\n",
    "**Women**\n",
    " - Jozie\n",
    " - Sister LB\n",
    " - Mina la voilée \n",
    " - Sister Fa\n",
    " - Mamy Victory\n",
    "\n",
    "**Males**\n",
    " - Keurgui group\n",
    " - Daaraj family\n",
    " - Ngaaka blindé \n",
    " - Didier Awadi\n",
    " - Dip Doundou Guiss"
   ]
  },
  {
   "cell_type": "markdown",
   "id": "fef256af-4a0a-44d7-99fc-dace4798e5a7",
   "metadata": {},
   "source": [
    "### Step 1: Import required libraries"
   ]
  },
  {
   "cell_type": "code",
   "execution_count": null,
   "id": "32f7302e-6b1b-4613-91e8-3935aee8388c",
   "metadata": {},
   "outputs": [],
   "source": [
    "import pandas as pd\n",
    "import matplotlib.pyplot as plt\n",
    "import requests\n",
    "import io\n",
    "import nltk\n",
    "from matplotlib import font_manager"
   ]
  },
  {
   "cell_type": "markdown",
   "id": "5d28d810-99bf-4490-9fec-d7190fcc77e0",
   "metadata": {},
   "source": [
    "### Step 2: Define a function to load CSV from AWJP repo"
   ]
  },
  {
   "cell_type": "code",
   "execution_count": null,
   "id": "b08b56ed-1bf5-4ce9-97d8-efe97d9fefab",
   "metadata": {},
   "outputs": [],
   "source": [
    "def load_lyrics_from_github(raw_url):\n",
    "    response = requests.get(raw_url).content\n",
    "    return pd.read_csv(io.StringIO(response.decode('utf-8')))"
   ]
  },
  {
   "cell_type": "markdown",
   "id": "069f9505-2b34-469c-9a5d-4cbe88ae03bf",
   "metadata": {},
   "source": [
    "### Step 3: Load lyrics data for female and male rappers"
   ]
  },
  {
   "cell_type": "code",
   "execution_count": null,
   "id": "3f1455ae-320e-4803-b250-cc7c826d0bba",
   "metadata": {},
   "outputs": [],
   "source": [
    "# Insert the actual RAW CSV URLs\n",
    "\n",
    "female_csv_url = \"https://raw.githubusercontent.com/AWJP/AWJP-data/refs/heads/main/Social%20Issues%20%26%20Human%20Rights/Lyrics%20of%20popular%20Senegal%20female%20rap%20songs%202024.csv\"\n",
    "male_csv_url = \"https://raw.githubusercontent.com/AWJP/AWJP-data/refs/heads/main/Social%20Issues%20%26%20Human%20Rights/Lyrics%20of%20popular%20Senegal%20male%20rap%20songs%202024.csv\"\n",
    "\n",
    "female_df = load_lyrics_from_github(female_csv_url)\n",
    "male_df = load_lyrics_from_github(male_csv_url)"
   ]
  },
  {
   "cell_type": "markdown",
   "id": "af3f8894-9f7f-4577-b8a0-f7d8422b1d65",
   "metadata": {},
   "source": [
    "### Step 4: Preview the structure"
   ]
  },
  {
   "cell_type": "code",
   "execution_count": null,
   "id": "e8dd6fa3-6cd3-4a34-ab33-545bc4abdf85",
   "metadata": {},
   "outputs": [],
   "source": [
    "female_df.head(), male_df.head()"
   ]
  },
  {
   "cell_type": "markdown",
   "id": "f82d8c9a-6cea-4d5a-bc68-f3f8c7943013",
   "metadata": {},
   "source": [
    "### Step 5: Combine all lyrics into one string per group"
   ]
  },
  {
   "cell_type": "code",
   "execution_count": null,
   "id": "90c50f53-0418-44f5-b1d7-c7d91f599791",
   "metadata": {},
   "outputs": [],
   "source": [
    "female_text = female_df['Lyrics of the most popular songs of Senegalese female rappers'].dropna().str.cat(sep=' ')\n",
    "male_text = male_df['Lyrics of the most popular songs of Senegalese male rappers'].dropna().str.cat(sep=' ')\n",
    "\n",
    "# Clean female and male lyrics text\n",
    "clean_female_text = \" \".join(female_text.split())\n",
    "clean_male_text = \" \".join(male_text.split())"
   ]
  },
  {
   "cell_type": "markdown",
   "id": "e58c2b77-4890-4926-ab13-f408d0248e2d",
   "metadata": {},
   "source": [
    "### Step 6: Create a function to generate a word cloud"
   ]
  },
  {
   "cell_type": "code",
   "execution_count": null,
   "id": "ea4ff758-74d4-4b62-a0a9-f96d573e3e80",
   "metadata": {},
   "outputs": [],
   "source": [
    "# Download stopwords once\n",
    "nltk.download('stopwords')\n",
    "\n",
    "from wordcloud import WordCloud, STOPWORDS\n",
    "from nltk.corpus import stopwords\n",
    "\n",
    "def generate_wordcloud(text, title):\n",
    "    # Combine NLTK and WordCloud default stopwords\n",
    "    all_stopwords = set(stopwords.words('english')).union(STOPWORDS)\n",
    "    \n",
    "    font_path = \"/usr/share/fonts/truetype/dejavu/DejaVuSans.ttf\"  # Adjust if needed\n",
    "\n",
    "    cleaned_text = \" \".join(text.split())  # Clean extra whitespace\n",
    "\n",
    "    wordcloud = WordCloud(\n",
    "        width=800,\n",
    "        height=400,\n",
    "        background_color='white',\n",
    "        stopwords=all_stopwords,\n",
    "        font_path=font_path\n",
    "    ).generate(cleaned_text)\n",
    "\n",
    "    plt.figure(figsize=(10, 5))\n",
    "    plt.imshow(wordcloud, interpolation='bilinear')\n",
    "    plt.axis('off')\n",
    "    plt.title(title)\n",
    "    plt.show()"
   ]
  },
  {
   "cell_type": "markdown",
   "id": "4b114453-dd18-4880-87c3-89a09ca4704e",
   "metadata": {},
   "source": [
    "### Step 7: Generate word clouds for both groups"
   ]
  },
  {
   "cell_type": "code",
   "execution_count": null,
   "id": "f0ba3ccc-3b60-4e11-b989-2a45801b3f01",
   "metadata": {},
   "outputs": [],
   "source": [
    "generate_wordcloud(female_text, \"Female Rappers' Lyrics Word Cloud\")\n",
    "generate_wordcloud(male_text, \"Male Rappers' Lyrics Word Cloud\")"
   ]
  },
  {
   "cell_type": "markdown",
   "id": "024d4720-1926-400a-b6c9-3b371591b491",
   "metadata": {},
   "source": [
    "### Step 8: Compare top 20 most common words"
   ]
  },
  {
   "cell_type": "code",
   "execution_count": null,
   "id": "5be620d7-4568-4eb0-9611-fd2d6d3e4a2e",
   "metadata": {},
   "outputs": [],
   "source": [
    "from collections import Counter\n",
    "import re\n",
    "from nltk.corpus import stopwords\n",
    "\n",
    "# Define stopwords\n",
    "stop_words = set(stopwords.words('english'))\n",
    "\n",
    "# Function to get top N filtered words\n",
    "def get_top_words(text, n=20):\n",
    "    words = re.findall(r'\\b\\w+\\b', text.lower())\n",
    "    filtered_words = [word for word in words if word not in stop_words]\n",
    "    return Counter(filtered_words).most_common(n)\n",
    "\n",
    "# Get top 20 filtered words for both groups\n",
    "female_top_words = get_top_words(female_text)\n",
    "male_top_words = get_top_words(male_text)\n",
    "\n",
    "# Print for raw verification (optional)\n",
    "print(\"Top words in Female lyrics:\")\n",
    "print(female_top_words)\n",
    "\n",
    "print(\"\\nTop words in Male lyrics:\")\n",
    "print(male_top_words)\n",
    "\n",
    "# Format into a side-by-side DataFrame\n",
    "top_words_df = pd.DataFrame({\n",
    "    'Female Rappers': [f\"{word} ({count})\" for word, count in female_top_words],\n",
    "    'Male Rappers': [f\"{word} ({count})\" for word, count in male_top_words]\n",
    "})\n",
    "\n",
    "top_words_df.index = [f\"{i+1}\" for i in range(len(top_words_df))]\n",
    "top_words_df"
   ]
  },
  {
   "cell_type": "code",
   "execution_count": null,
   "id": "22f2e520-d6d9-4424-9e49-716c57cbdb67",
   "metadata": {},
   "outputs": [],
   "source": []
  },
  {
   "cell_type": "markdown",
   "id": "9f9f6c09-3e22-492b-aa47-06a3530d2160",
   "metadata": {},
   "source": [
    "## Performing a comparative YouTube popularity analysis of male and female Senegalese Rappers."
   ]
  },
  {
   "cell_type": "markdown",
   "id": "9414b9f9-a19e-4635-82d6-13ae1e0b777b",
   "metadata": {},
   "source": [
    "### Step 1: Import Libraries"
   ]
  },
  {
   "cell_type": "code",
   "execution_count": null,
   "id": "fccca12f-5575-4465-9210-27eceb9bb02d",
   "metadata": {},
   "outputs": [],
   "source": [
    "import pandas as pd\n",
    "import matplotlib.pyplot as plt\n",
    "import numpy as np"
   ]
  },
  {
   "cell_type": "markdown",
   "id": "2fa8c38e-5f52-40a1-8a27-8600918d2b7a",
   "metadata": {},
   "source": [
    "### Step 2: Load the CSV Data from AWJP repo"
   ]
  },
  {
   "cell_type": "code",
   "execution_count": null,
   "id": "905ac334-7118-4256-aa03-23302e43294a",
   "metadata": {},
   "outputs": [],
   "source": [
    "# Load CSV from GitHub, skip first 2 rows to get correct headers\n",
    "url = \"https://raw.githubusercontent.com/AWJP/AWJP-data/refs/heads/main/Social%20Issues%20%26%20Human%20Rights/YouTube%20Stats%20Female%20and%20Male%20Senegal%20Rappers%20as%20of%205%20August%202024.csv\"\n",
    "df = pd.read_csv(url, skiprows=3)\n",
    "\n",
    "# Remove any trailing/leading spaces in column names\n",
    "df.columns = df.columns.str.strip()"
   ]
  },
  {
   "cell_type": "markdown",
   "id": "ffe10bfb-0cd3-4b1d-a1e5-68aadaf3f93d",
   "metadata": {},
   "source": [
    "### Step 3: Clean and Prepare Data"
   ]
  },
  {
   "cell_type": "code",
   "execution_count": null,
   "id": "545fdca6-04cb-4d00-b799-19898df5d934",
   "metadata": {},
   "outputs": [],
   "source": [
    "# Ensure numeric values for analysis\n",
    "df['YouTube views of most popular song'] = pd.to_numeric(df['YouTube views of most popular song'].str.replace(',', ''), errors='coerce')\n",
    "df['YouTube likes of most popular song'] = pd.to_numeric(df['YouTube likes of most popular song'].str.replace(',', ''), errors='coerce')\n",
    "df['YouTube comments of most popular song'] = pd.to_numeric(df['YouTube comments of most popular song'].str.replace(',', ''), errors='coerce')\n",
    "\n",
    "# Rename for convenience\n",
    "df = df.rename(columns={\n",
    "    'YouTube views of most popular song': 'Views',\n",
    "    'YouTube likes of most popular song': 'Likes',\n",
    "    'YouTube comments of most popular song': 'Comments'\n",
    "})"
   ]
  },
  {
   "cell_type": "markdown",
   "id": "a2d81c44-acac-4818-bd88-1131ff4ab997",
   "metadata": {},
   "source": [
    "### Step 4: Calculate Averages and Engagement"
   ]
  },
  {
   "cell_type": "code",
   "execution_count": null,
   "id": "c3a5159c-4ac7-44d1-b34b-5401b5bbed0d",
   "metadata": {},
   "outputs": [],
   "source": [
    "# Group and compute averages\n",
    "avg_metrics = df.groupby('Gender').agg({\n",
    "    'Views': 'mean',\n",
    "    'Likes': 'mean',\n",
    "    'Comments': 'mean'\n",
    "}).round(1)\n",
    "\n",
    "# Add engagement ratios\n",
    "avg_metrics['Likes_to_Views'] = (df.groupby('Gender')['Likes'].sum() / df.groupby('Gender')['Views'].sum()).round(4)\n",
    "avg_metrics['Comments_to_Views'] = (df.groupby('Gender')['Comments'].sum() / df.groupby('Gender')['Views'].sum()).round(4)\n",
    "\n",
    "avg_metrics"
   ]
  },
  {
   "cell_type": "code",
   "execution_count": null,
   "id": "b02ca8b3-f038-41ea-8297-9e22ac5745e3",
   "metadata": {},
   "outputs": [],
   "source": [
    "# Prepare data\n",
    "categories = ['Views', 'Likes', 'Comments']\n",
    "female_values = avg_metrics.loc['Female', categories].values\n",
    "male_values = avg_metrics.loc['Male', categories].values\n",
    "\n",
    "x = np.arange(len(categories))  # label locations\n",
    "width = 0.35  # width of the bars\n",
    "\n",
    "# Create figure and axis\n",
    "fig, ax = plt.subplots(figsize=(10, 6))\n",
    "bars1 = ax.bar(x - width/2, female_values, width, label='Female Rappers')\n",
    "bars2 = ax.bar(x + width/2, male_values, width, label='Male Rappers')\n",
    "\n",
    "# Set log scale\n",
    "ax.set_yscale('log')\n",
    "ax.set_ylabel('Log Scale of Counts')\n",
    "ax.set_title('YouTube Averages for Male vs. Female Rappers (Log Scale)')\n",
    "ax.set_xticks(x)\n",
    "ax.set_xticklabels(categories)\n",
    "ax.legend()\n",
    "ax.grid(axis='y', which='both', linestyle='--', linewidth=0.5)\n",
    "\n",
    "# Annotate bars\n",
    "for bar in bars1 + bars2:\n",
    "    height = bar.get_height()\n",
    "    ax.annotate(f'{int(height):,}',\n",
    "                xy=(bar.get_x() + bar.get_width() / 2, height),\n",
    "                xytext=(0, 5),\n",
    "                textcoords=\"offset points\",\n",
    "                ha='center', va='bottom', fontsize=9, color='black')\n",
    "\n",
    "plt.tight_layout()\n",
    "plt.show()"
   ]
  },
  {
   "cell_type": "markdown",
   "id": "8f817d08-e269-45bc-aed5-99675bf282a5",
   "metadata": {},
   "source": [
    "# Interpretation"
   ]
  },
  {
   "cell_type": "markdown",
   "id": "78783089-b540-49ef-9536-3557cbb8db4a",
   "metadata": {},
   "source": [
    "### Comparisons Between Male and Female Rappers\n",
    "\n",
    " - **Views:** Male rappers, on average, have significantly higher view counts (4,795,800) compared to female rappers (55,660). This indicates a much larger audience reach for male rappers.\n",
    " - **Likes:** The average number of likes is also higher for male rappers (41,360) than for female rappers (2,079.2).\n",
    " - **Comments:** Male rappers receive more comments on average (2,006.6) compared to female rappers (225.6).\n",
    "\n",
    "These differences may reflect disparities in visibility, platform support, or audience exposure.\n",
    "\n",
    "#### Engagement Ratios\n",
    "\n",
    " - **Likes to Views Ratio:** Female rappers have a higher ratio (0.0374) compared to male rappers (0.0086). This suggests that, relative to their view counts, female rappers receive more likes, potentially indicating stronger engagement or a more dedicated fan base.\n",
    " - **Comments to Views Ratio:** Female rappers also have a higher comments-to-views ratio (0.0041) compared to male rappers (0.0004), indicating a higher level of engagement and interaction.\n",
    "\n",
    "### Lyrics\n",
    "\n",
    "While the frequently used words in the men's lyrics are more skewed towards romance (love, baby, heart), the keywords used in the women's music are often linked to promise, combat, victory and work.\n",
    "\n",
    "\n",
    "## Conclusion\n",
    "\n",
    "While male rappers in Senegal generally have higher view counts and overall engagement numbers, female rappers exhibit higher engagement ratios relative to their view counts. This suggests that female rappers, despite having a smaller audience, may have a more engaged and active fan base. The disparities in total views and engagements also reflect broader visibility and possibly accessibility differences between male and female artists. \n",
    "\n",
    "\n",
    "***Read the stories AWJP Fellow Aïssatou Bâ wrote that incorporated this analysis: [Part 1](https://aps.sn/rap-galsen-lengagement-des-pionnieres-pour-la-cause-des-femmes-et-des-enfants/) & [Part 2](https://aps.sn/rap-feminin-briser-le-plafond-de-verre/)***"
   ]
  }
 ],
 "metadata": {
  "kernelspec": {
   "display_name": "Python 3 (ipykernel)",
   "language": "python",
   "name": "python3"
  },
  "language_info": {
   "codemirror_mode": {
    "name": "ipython",
    "version": 3
   },
   "file_extension": ".py",
   "mimetype": "text/x-python",
   "name": "python",
   "nbconvert_exporter": "python",
   "pygments_lexer": "ipython3",
   "version": "3.10.12"
  }
 },
 "nbformat": 4,
 "nbformat_minor": 5
}
